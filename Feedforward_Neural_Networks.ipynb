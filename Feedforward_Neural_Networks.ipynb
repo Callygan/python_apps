{
  "cells": [
    {
      "cell_type": "code",
      "source": [
        "import numpy as np\n",
        "import pandas as pd\n",
        "from sklearn.neural_network import MLPRegressor\n",
        "\n",
        "# Încărcarea datelor din fișierul CSV\n",
        "data = pd.read_csv('date.csv')\n",
        "\n",
        "# Definirea datelor de intrare și a țintelor\n",
        "inputs = data[['Humidity', 'TemperatureF', 'PressureHg', 'WindSpeedmph']].values.T\n",
        "tempC = (5/9) * (data['TemperatureF'] - 32)\n",
        "b = 17.62\n",
        "c = 243.5\n",
        "gamma = np.log(data['Humidity'] / 100) + b * tempC / (c + tempC)\n",
        "dewPointC = c * gamma / (b - gamma)\n",
        "dewPointF = (dewPointC * 1.8) + 32\n",
        "targets = dewPointF\n",
        "\n",
        "# Antrenarea rețelei neuronale\n",
        "net = MLPRegressor(hidden_layer_sizes=10, max_iter=1000)\n",
        "net.fit(inputs.T, targets)\n",
        "\n",
        "# Predicție\n",
        "output = net.predict(inputs[:, 4].reshape(1, -1))\n",
        "print(output)\n"
      ],
      "outputs": [
        {
          "output_type": "stream",
          "name": "stdout",
          "text": "[71.72136936]\n"
        },
        {
          "output_type": "stream",
          "name": "stderr",
          "text": "D:\\Programe\\Anaconda\\Lib\\site-packages\\sklearn\\neural_network\\_multilayer_perceptron.py:686: ConvergenceWarning: Stochastic Optimizer: Maximum iterations (1000) reached and the optimization hasn't converged yet.\n  warnings.warn(\n"
        }
      ],
      "execution_count": 6,
      "metadata": {},
      "id": "ea176dbf-34ae-44e2-a2fc-d62777360c04"
    },
    {
      "cell_type": "code",
      "source": [],
      "outputs": [],
      "execution_count": null,
      "metadata": {},
      "id": "eefbe972-98c6-4246-9f29-360ff6f05f63"
    }
  ],
  "metadata": {
    "kernelspec": {
      "display_name": "Python 3 (ipykernel)",
      "language": "python",
      "name": "python3"
    },
    "language_info": {
      "codemirror_mode": {
        "name": "ipython",
        "version": 3
      },
      "file_extension": ".py",
      "mimetype": "text/x-python",
      "name": "python",
      "nbconvert_exporter": "python",
      "pygments_lexer": "ipython3",
      "version": "3.11.7"
    },
    "nteract": {
      "version": "nteract-front-end@1.0.0"
    }
  },
  "nbformat": 4,
  "nbformat_minor": 5
}