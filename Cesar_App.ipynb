{
  "cells": [
    {
      "cell_type": "code",
      "source": [
        "#Criptare și decriptare folosind Cezar\n",
        "def encrypt_caesar(text, shift):\n",
        "    encrypted_text = \"\"\n",
        "    for char in text:\n",
        "        if char.isalpha():  # Verificăm dacă e literă\n",
        "            start = ord('A') if char.isupper() else ord('a')\n",
        "            encrypted_text += chr((ord(char) - start + shift) % 26 + start)\n",
        "        else:\n",
        "            encrypted_text += char  # Păstrăm caracterele speciale\n",
        "    return encrypted_text\n",
        "\n",
        "\n",
        "def decrypt_caesar(text, shift):\n",
        "    return encrypt_caesar(text, -shift)\n",
        "\n",
        "def main():\n",
        "    while True:\n",
        "        print(\"\\nAplicație de Criptare Cezar\")\n",
        "        print(\"1. Criptare\")\n",
        "        print(\"2. Decriptare\")\n",
        "        print(\"3. Ieșire\")\n",
        "        \n",
        "        choice = input(\"Alegeți o opțiune: \")\n",
        "        \n",
        "        if choice == \"1\":\n",
        "            text = input(\"Introduceți textul pentru criptare: \")\n",
        "            shift = int(input(\"Introduceți cheia de criptare (deplasare): \"))\n",
        "            result = encrypt_caesar(text, shift)\n",
        "            print(f\"Text criptat: {result}\")\n",
        "        \n",
        "        elif choice == \"2\":\n",
        "            text = input(\"Introduceți textul pentru decriptare: \")\n",
        "            shift = int(input(\"Introduceți cheia de criptare (deplasare): \"))\n",
        "            result = decrypt_caesar(text, shift)\n",
        "            print(f\"Text decriptat: {result}\")\n",
        "        \n",
        "        elif choice == \"3\":\n",
        "            print(\"La revedere!\")\n",
        "            break\n",
        "        \n",
        "        else:\n",
        "            print(\"Opțiune invalidă. Încercați din nou.\")\n",
        "\n",
        "if __name__ == \"__main__\":\n",
        "    main()\n"
      ],
      "outputs": [
        {
          "output_type": "stream",
          "name": "stdout",
          "text": "\nAplicație de Criptare Cezar\n1. Criptare\n2. Decriptare\n3. Ieșire\n"
        },
        {
          "output_type": "stream",
          "name": "stdin",
          "text": "Alegeți o opțiune:  1\nIntroduceți textul pentru criptare:  Alexandru are 3 BTC\nIntroduceți cheia de criptare (deplasare):  4\n"
        },
        {
          "output_type": "stream",
          "name": "stdout",
          "text": "Text criptat: Epiberhvy evi 3 FXG\n\nAplicație de Criptare Cezar\n1. Criptare\n2. Decriptare\n3. Ieșire\n"
        },
        {
          "output_type": "stream",
          "name": "stdin",
          "text": "Alegeți o opțiune:  2\nIntroduceți textul pentru decriptare:  Epiberhvy evi 3 FXG\nIntroduceți cheia de criptare (deplasare):  4\n"
        },
        {
          "output_type": "stream",
          "name": "stdout",
          "text": "Text decriptat: Alexandru are 3 BTC\n\nAplicație de Criptare Cezar\n1. Criptare\n2. Decriptare\n3. Ieșire\n"
        },
        {
          "output_type": "stream",
          "name": "stdin",
          "text": "Alegeți o opțiune:  2\nIntroduceți textul pentru decriptare:  Epiberhvy evi 3 FXG\nIntroduceți cheia de criptare (deplasare):  2\n"
        },
        {
          "output_type": "stream",
          "name": "stdout",
          "text": "Text decriptat: Cngzcpftw ctg 3 DVE\n\nAplicație de Criptare Cezar\n1. Criptare\n2. Decriptare\n3. Ieșire\n"
        }
      ],
      "execution_count": null,
      "metadata": {},
      "id": "b51f7345-101a-478a-81b5-9ddb28de60f9"
    },
    {
      "cell_type": "code",
      "source": [],
      "outputs": [],
      "execution_count": null,
      "metadata": {},
      "id": "0f3eaa12-489a-4918-a46f-3715306a1d3a"
    }
  ],
  "metadata": {
    "kernelspec": {
      "display_name": "Python 3 (ipykernel)",
      "language": "python",
      "name": "python3"
    },
    "language_info": {
      "codemirror_mode": {
        "name": "ipython",
        "version": 3
      },
      "file_extension": ".py",
      "mimetype": "text/x-python",
      "name": "python",
      "nbconvert_exporter": "python",
      "pygments_lexer": "ipython3",
      "version": "3.12.7"
    },
    "nteract": {
      "version": "nteract-front-end@1.0.0"
    }
  },
  "nbformat": 4,
  "nbformat_minor": 5
}