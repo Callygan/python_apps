{
  "cells": [
    {
      "cell_type": "code",
      "source": [
        "#Criptare și decriptare folosind Vigenere\n",
        "def repeat_key(text, key):\n",
        "    key = list(key)\n",
        "    if len(text) == len(key):\n",
        "        return key\n",
        "    else:\n",
        "        return (key * (len(text) // len(key))) + key[:len(text) % len(key)]\n",
        "\n",
        "def encrypt_vigenere(text, key):\n",
        "    encrypted_text = []\n",
        "    key = repeat_key(text, key)\n",
        "    \n",
        "    for i in range(len(text)):\n",
        "        if text[i].isalpha():\n",
        "            shift = ord(key[i].lower()) - ord('a')\n",
        "            start = ord('A') if text[i].isupper() else ord('a')\n",
        "            encrypted_char = chr((ord(text[i]) - start + shift) % 26 + start)\n",
        "            encrypted_text.append(encrypted_char)\n",
        "        else:\n",
        "            encrypted_text.append(text[i])  # Păstrăm caracterele speciale\n",
        "    \n",
        "    return ''.join(encrypted_text)\n",
        "\n",
        "def decrypt_vigenere(text, key):\n",
        "    decrypted_text = []\n",
        "    key = repeat_key(text, key)\n",
        "    \n",
        "    for i in range(len(text)):\n",
        "        if text[i].isalpha():\n",
        "            shift = ord(key[i].lower()) - ord('a')\n",
        "            start = ord('A') if text[i].isupper() else ord('a')\n",
        "            decrypted_char = chr((ord(text[i]) - start - shift) % 26 + start)\n",
        "            decrypted_text.append(decrypted_char)\n",
        "        else:\n",
        "            decrypted_text.append(text[i])  # Păstrăm caracterele speciale\n",
        "    \n",
        "    return ''.join(decrypted_text)\n",
        "\n",
        "def main():\n",
        "    while True:\n",
        "        print(\"\\nAplicație de Criptare Vigenere\")\n",
        "        print(\"1. Criptare\")\n",
        "        print(\"2. Decriptare\")\n",
        "        print(\"3. Ieșire\")\n",
        "        \n",
        "        choice = input(\"Alegeți o opțiune: \")\n",
        "        \n",
        "        if choice == \"1\":\n",
        "            text = input(\"Introduceți textul pentru criptare: \")\n",
        "            key = input(\"Introduceți cheia de criptare: \")\n",
        "            result = encrypt_vigenere(text, key)\n",
        "            print(f\"Text criptat: {result}\")\n",
        "        \n",
        "        elif choice == \"2\":\n",
        "            text = input(\"Introduceți textul pentru decriptare: \")\n",
        "            key = input(\"Introduceți cheia de criptare: \")\n",
        "            result = decrypt_vigenere(text, key)\n",
        "            print(f\"Text decriptat: {result}\")\n",
        "        \n",
        "        elif choice == \"3\":\n",
        "            print(\"La revedere!\")\n",
        "            break\n",
        "        \n",
        "        else:\n",
        "            print(\"Opțiune invalidă. Încercați din nou.\")\n",
        "\n",
        "if __name__ == \"__main__\":\n",
        "    main()\n"
      ],
      "outputs": [
        {
          "output_type": "stream",
          "name": "stdout",
          "text": "\nAplicație de Criptare Vigenere\n1. Criptare\n2. Decriptare\n3. Ieșire\n"
        },
        {
          "output_type": "stream",
          "name": "stdin",
          "text": "Alegeți o opțiune:  1\nIntroduceți textul pentru criptare:  Bibi nu este Developer\nIntroduceți cheia de criptare:  65\n"
        },
        {
          "output_type": "stream",
          "name": "stdout",
          "text": "Text criptat: Kqkq vd nacm Lndntxxnz\n\nAplicație de Criptare Vigenere\n1. Criptare\n2. Decriptare\n3. Ieșire\n"
        },
        {
          "output_type": "stream",
          "name": "stdin",
          "text": "Alegeți o opțiune:  2\nIntroduceți textul pentru decriptare:  Kqkq vd nacm Lndntxxnz\nIntroduceți cheia de criptare:  65\n"
        },
        {
          "output_type": "stream",
          "name": "stdout",
          "text": "Text decriptat: Bibi nu este Developer\n\nAplicație de Criptare Vigenere\n1. Criptare\n2. Decriptare\n3. Ieșire\n"
        },
        {
          "output_type": "stream",
          "name": "stdin",
          "text": "Alegeți o opțiune:  3\n"
        },
        {
          "output_type": "stream",
          "name": "stdout",
          "text": "La revedere!\n"
        }
      ],
      "execution_count": 1,
      "metadata": {},
      "id": "c1a45265-532c-465e-8b87-91dcc784553f"
    },
    {
      "cell_type": "code",
      "source": [],
      "outputs": [],
      "execution_count": null,
      "metadata": {},
      "id": "55b61a64-cb3f-416d-92a0-aa96413b60c0"
    }
  ],
  "metadata": {
    "kernelspec": {
      "display_name": "Python 3 (ipykernel)",
      "language": "python",
      "name": "python3"
    },
    "language_info": {
      "codemirror_mode": {
        "name": "ipython",
        "version": 3
      },
      "file_extension": ".py",
      "mimetype": "text/x-python",
      "name": "python",
      "nbconvert_exporter": "python",
      "pygments_lexer": "ipython3",
      "version": "3.12.7"
    },
    "nteract": {
      "version": "nteract-front-end@1.0.0"
    }
  },
  "nbformat": 4,
  "nbformat_minor": 5
}