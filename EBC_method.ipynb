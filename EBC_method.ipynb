{
  "cells": [
    {
      "cell_type": "code",
      "source": [
        "from cryptography.hazmat.primitives import padding\n",
        "from cryptography.hazmat.primitives.ciphers import Cipher, algorithms, modes\n",
        "from cryptography.hazmat.backends import default_backend\n",
        "\n",
        "KEY = b'\\x01\\x02\\x03\\x04\\x05\\x06\\x07\\x08\\x09\\x0A\\x0B\\x0C\\x0D\\x0E\\x0F\\x10'\n",
        "\n",
        "def encrypt_cbc(data, iv):\n",
        "    cipher = Cipher(algorithms.AES(KEY), modes.CBC(iv), backend=default_backend())\n",
        "    encryptor = cipher.encryptor()\n",
        "    padder = padding.PKCS7(128).padder()  # Padding pentru a completa multiplele de 16 octeți\n",
        "    padded_data = padder.update(data) + padder.finalize()\n",
        "    encrypted = encryptor.update(padded_data) + encryptor.finalize()\n",
        "    return encrypted\n",
        "\n",
        "def decrypt_cbc(encrypted_data, iv):\n",
        "    cipher = Cipher(algorithms.AES(KEY), modes.CBC(iv), backend=default_backend())\n",
        "    decryptor = cipher.decryptor()\n",
        "    unpadder = padding.PKCS7(128).unpadder()  # Eliminarea padding-ului\n",
        "    decrypted = decryptor.update(encrypted_data) + decryptor.finalize()\n",
        "    unpadded_data = unpadder.update(decrypted) + unpadder.finalize()\n",
        "    return unpadded_data\n",
        "\n",
        "user_iv = input(\"Introduceți vectorul de inițializare (16 octeți hexadecimali, ex: 00112233445566778899AABBCCDDEEFF): \")\n",
        "\n",
        "try:\n",
        "    iv_bytes = bytes.fromhex(user_iv)\n",
        "    if len(iv_bytes) != 16:\n",
        "        raise ValueError(\"Vectorul trebuie să aibă exact 16 octeți.\")\n",
        "    \n",
        "    plaintext = b\"Mesaj de testare CBC\"\n",
        "\n",
        "    encrypted_cbc = encrypt_cbc(plaintext, iv_bytes)\n",
        "    decrypted_cbc = decrypt_cbc(encrypted_cbc, iv_bytes)\n",
        "\n",
        "    print(\"\\nRezultate pentru CBC:\")\n",
        "    print(\"Text criptat CBC:\", encrypted_cbc.hex())\n",
        "    print(\"Text decriptat CBC:\", decrypted_cbc.decode('utf-8'))\n",
        "\n",
        "except ValueError as e:\n",
        "    print(f\"Eroare: {e}\")\n"
      ],
      "outputs": [
        {
          "output_type": "stream",
          "name": "stdin",
          "text": "Introduceți vectorul de inițializare (16 octeți hexadecimali, ex: 00112233445566778899AABBCCDDEEFF):  00112233445566778899AABBCCDDEEFF\n"
        },
        {
          "output_type": "stream",
          "name": "stdout",
          "text": "\nRezultate pentru CBC:\nText criptat CBC: 4582fb7a6f87cda48ea9b966b704941e8ee4d43194f704ee40f093ede50b0c95\nText decriptat CBC: Mesaj de testare CBC\n"
        }
      ],
      "execution_count": 4,
      "metadata": {},
      "id": "bceef54e-8c6f-41d0-b980-7f465dbeefbd"
    },
    {
      "cell_type": "code",
      "source": [],
      "outputs": [],
      "execution_count": null,
      "metadata": {},
      "id": "fbdbc63f-d94b-4a02-b4b2-7c7bdd86c2af"
    }
  ],
  "metadata": {
    "kernelspec": {
      "display_name": "Python 3 (ipykernel)",
      "language": "python",
      "name": "python3"
    },
    "language_info": {
      "codemirror_mode": {
        "name": "ipython",
        "version": 3
      },
      "file_extension": ".py",
      "mimetype": "text/x-python",
      "name": "python",
      "nbconvert_exporter": "python",
      "pygments_lexer": "ipython3",
      "version": "3.12.7"
    },
    "nteract": {
      "version": "nteract-front-end@1.0.0"
    }
  },
  "nbformat": 4,
  "nbformat_minor": 5
}